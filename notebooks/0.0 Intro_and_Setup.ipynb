{
  "cells": [
    {
      "cell_type": "markdown",
      "metadata": {
        "colab_type": "text",
        "id": "view-in-github"
      },
      "source": [
        "<a href=\"https://colab.research.google.com/github/jkchandalia/nlp/blob/part4/notebooks/1.0%20NLP_intro.ipynb\" target=\"_parent\"><img src=\"https://colab.research.google.com/assets/colab-badge.svg\" alt=\"Open In Colab\"/></a>"
      ]
    },
    {
      "cell_type": "markdown",
      "metadata": {
        "id": "MB2JOABMiM4Q"
      },
      "source": [
        "# **Intro to Practical Hands-on Deep Learning**"
      ]
    },
    {
      "attachments": {},
      "cell_type": "markdown",
      "metadata": {
        "id": "Rht5jZf89DGB"
      },
      "source": [
        "# Resources\n",
        "Github Repository with our notebooks and associated code:\n",
        "- [nlpower](https://github.com/jkchandalia/nlpower)\n",
        "    - High level introduction to LLMs and Transformers\n",
        "    - Generative AI demos (ChatGPT and Stable Diffusion)\n",
        "    - Bias and Risks of AI\n",
        "    - Additional Resources\n",
        "- [bert](https://github.com/danasaur/bert)\n",
        "    - ML Design Problem with Transfer Learning and In-depth Fine-tuning of (Distil)BERT\n"
      ]
    },
    {
      "attachments": {},
      "cell_type": "markdown",
      "metadata": {},
      "source": [
        "# Suggested Items\n",
        "An [OpenAI](https://openai.com/) account to access [ChatGPT](https://chat.openai.com/) and [DALL-E 2](https://labs.openai.com/)\n",
        "\n",
        "A picture you would like to use in a Stable Diffusion image-related demo"
      ]
    },
    {
      "attachments": {},
      "cell_type": "markdown",
      "metadata": {},
      "source": [
        "# Breaks\n",
        "We will plan for 2-3 breaks so we can refuel in between sections. "
      ]
    },
    {
      "attachments": {},
      "cell_type": "markdown",
      "metadata": {},
      "source": [
        "# Help\n",
        "We have a wonderful TA who can help with technical issues as we go through the tutorial!"
      ]
    }
  ],
  "metadata": {
    "colab": {
      "include_colab_link": true,
      "provenance": []
    },
    "kernelspec": {
      "display_name": "Python 3",
      "name": "python3"
    },
    "language_info": {
      "codemirror_mode": {
        "name": "ipython",
        "version": 3
      },
      "file_extension": ".py",
      "mimetype": "text/x-python",
      "name": "python",
      "nbconvert_exporter": "python",
      "pygments_lexer": "ipython3",
      "version": "3.9.6"
    }
  },
  "nbformat": 4,
  "nbformat_minor": 0
}
