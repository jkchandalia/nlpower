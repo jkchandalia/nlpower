{
  "cells": [
    {
      "attachments": {},
      "cell_type": "markdown",
      "metadata": {
        "colab_type": "text",
        "id": "view-in-github"
      },
      "source": [
        "<a href=\"https://colab.research.google.com/github/jkchandalia/nlp/blob/main/notebooks/4.1%20AI_and_society.ipynb\" target=\"_parent\"><img src=\"https://colab.research.google.com/assets/colab-badge.svg\" alt=\"Open In Colab\"/></a>"
      ]
    },
    {
      "attachments": {},
      "cell_type": "markdown",
      "metadata": {
        "id": "MB2JOABMiM4Q"
      },
      "source": [
        "# **Bias in AI**"
      ]
    },
    {
      "cell_type": "markdown",
      "metadata": {
        "id": "2zJKw3PM8-vL"
      },
      "source": [
        "**Import** Libraries "
      ]
    },
    {
      "cell_type": "code",
      "execution_count": null,
      "metadata": {
        "id": "L9vmG-hk894X"
      },
      "outputs": [],
      "source": [
        "import numpy as np\n",
        "import pandas as pd\n",
        "import seaborn as sns\n",
        "import matplotlib.pyplot as plt\n",
        "%matplotlib inline"
      ]
    },
    {
      "cell_type": "markdown",
      "metadata": {
        "id": "Rht5jZf89DGB"
      },
      "source": [
        "## Bias in LLMs"
      ]
    },
    {
      "attachments": {},
      "cell_type": "markdown",
      "metadata": {
        "id": "lOmRo_0PHlDD"
      },
      "source": [
        "Let's use this sentence to examine potential gender bias in large language models: \n",
        "\n",
        "[The nurse went for a walk because < MASK > wanted some exercise](https://huggingface.co/bert-base-uncased?text=The+nurse+went+for+a+walk+because+%5BMASK%5D+wanted+some+exercise)"
      ]
    },
    {
      "attachments": {},
      "cell_type": "markdown",
      "metadata": {
        "id": "MrjOlx_EHsdj"
      },
      "source": [
        "Let's use the following sentence to examine potential name bias in large language models: \n",
        "\n",
        "[Karen went out to < MASK > the bank](https://huggingface.co/bert-base-uncased?text=Karen+went+out+to+%5BMASK%5D+the+bank)"
      ]
    },
    {
      "attachments": {},
      "cell_type": "markdown",
      "metadata": {},
      "source": [
        "# **Risks and Benefits of AI**"
      ]
    },
    {
      "attachments": {},
      "cell_type": "markdown",
      "metadata": {},
      "source": [
        "https://futureoflife.org/open-letter/pause-giant-ai-experiments/\n",
        "\n",
        "https://www.wsj.com/articles/a-six-month-ai-pause-no-longer-is-needed-civilization-danger-chat-gpt-chatbot-internet-big-tech-4b66da6e\n",
        "\n",
        "https://dl.acm.org/doi/pdf/10.1145/3442188.3445922"
      ]
    },
    {
      "cell_type": "markdown",
      "metadata": {},
      "source": []
    }
  ],
  "metadata": {
    "colab": {
      "include_colab_link": true,
      "provenance": []
    },
    "kernelspec": {
      "display_name": "Python 3",
      "name": "python3"
    },
    "language_info": {
      "name": "python"
    }
  },
  "nbformat": 4,
  "nbformat_minor": 0
}
