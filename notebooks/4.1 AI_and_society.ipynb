{
  "cells": [
    {
      "attachments": {},
      "cell_type": "markdown",
      "metadata": {
        "colab_type": "text",
        "id": "view-in-github"
      },
      "source": [
        "<a href=\"https://colab.research.google.com/github/jkchandalia/nlp/blob/main/notebooks/4.1%20AI_and_society.ipynb\" target=\"_parent\"><img src=\"https://colab.research.google.com/assets/colab-badge.svg\" alt=\"Open In Colab\"/></a>"
      ]
    },
    {
      "attachments": {},
      "cell_type": "markdown",
      "metadata": {
        "id": "MB2JOABMiM4Q"
      },
      "source": [
        "# **Bias in AI**"
      ]
    },
    {
      "cell_type": "markdown",
      "metadata": {
        "id": "2zJKw3PM8-vL"
      },
      "source": [
        "**Import** Libraries "
      ]
    },
    {
      "cell_type": "code",
      "execution_count": null,
      "metadata": {
        "id": "L9vmG-hk894X"
      },
      "outputs": [],
      "source": [
        "import numpy as np\n",
        "import pandas as pd\n",
        "import seaborn as sns\n",
        "import matplotlib.pyplot as plt\n",
        "%matplotlib inline"
      ]
    },
    {
      "cell_type": "markdown",
      "metadata": {
        "id": "Rht5jZf89DGB"
      },
      "source": [
        "## Bias in LLMs"
      ]
    },
    {
      "attachments": {},
      "cell_type": "markdown",
      "metadata": {
        "id": "lOmRo_0PHlDD"
      },
      "source": [
        "Let's use this sentence to examine potential gender bias in large language models: \n",
        "\n",
        "[The nurse went for a walk because < MASK > wanted some exercise](https://huggingface.co/bert-base-uncased?text=The+nurse+went+for+a+walk+because+%5BMASK%5D+wanted+some+exercise)"
      ]
    },
    {
      "attachments": {},
      "cell_type": "markdown",
      "metadata": {
        "id": "MrjOlx_EHsdj"
      },
      "source": [
        "Let's use the following sentence to examine potential name bias in large language models: \n",
        "\n",
        "[Karen went out to < MASK > the bank](https://huggingface.co/bert-base-uncased?text=Karen+went+out+to+%5BMASK%5D+the+bank)"
      ]
    },
    {
      "attachments": {},
      "cell_type": "markdown",
      "metadata": {},
      "source": [
        "### *Discussion*\n",
        "\n",
        "##### Given how prevalent LLMs like BERT are, do we see risks from the results above? \n",
        "\n",
        "##### Bias mitigation is an ongoing area of investigation. Additional resources on this topic will be provided in our resource list. "
      ]
    },
    {
      "attachments": {},
      "cell_type": "markdown",
      "metadata": {},
      "source": [
        "***"
      ]
    },
    {
      "attachments": {},
      "cell_type": "markdown",
      "metadata": {},
      "source": [
        "# **Risks and Benefits of AI**"
      ]
    },
    {
      "attachments": {},
      "cell_type": "markdown",
      "metadata": {},
      "source": [
        "### *Open Discussion*"
      ]
    },
    {
      "attachments": {},
      "cell_type": "markdown",
      "metadata": {},
      "source": [
        "##### Selection of Views on the Risks of AI\n",
        "[On the Dangers of Stochastic Parrots: Can Language Models Be Too Big? by Timnit Gebru *et al.*](https://dl.acm.org/doi/pdf/10.1145/3442188.3445922)\n",
        "\n",
        "[Call for a 6 month moratorium on AI progress *signed by Elon Musk, Steve Wozniak, Yoshio Bengio and others*](https://futureoflife.org/open-letter/pause-giant-ai-experiments/)\n",
        "\n",
        "[A Six Month AI Pause, No Longer Is Needed (WSJ)](https://www.wsj.com/articles/a-six-month-ai-pause-no-longer-is-needed-civilization-danger-chat-gpt-chatbot-internet-big-tech-4b66da6e)\n",
        "\n",
        "\n",
        "[The People Onscreen Are Fake. The Disinformation Is Real (NYT)](https://www.nytimes.com/2023/02/07/technology/artificial-intelligence-training-deepfake.html)\n",
        "\n",
        "[How ChatGPT Kicked Off an A.I. Arms (NYT)](https://www.nytimes.com/2023/02/03/technology/chatgpt-openai-artificial-intelligence.html)\n",
        "\n",
        "[AI Bill of Rights](https://www.whitehouse.gov/ostp/ai-bill-of-rights/)\n",
        "\n",
        "<figure>\n",
        "<center>\n",
        "<p align=\"center\">\n",
        "<img src='https://drive.google.com/uc?export=view&id=1fbF9C_SstyUe5W53xyrPc_cpDlozbEk9' alt=\"History of LLMs\", width=\"250\" height=\"300\"/>\n",
        "</p>\n",
        "<figcaption>Fake Image of Pope in Puffer Jacket (credit: Pablo Xavier and Midjourney)</figcaption></center>\n",
        "</figure>\n",
        "\n",
        "\n",
        "https://drive.google.com/file/d/1fbF9C_SstyUe5W53xyrPc_cpDlozbEk9/view?usp=sharing"
      ]
    },
    {
      "attachments": {},
      "cell_type": "markdown",
      "metadata": {},
      "source": [
        "##### Selection of Views on the Benefits of AI\n",
        "\n",
        "[Yann LeCun and Andrew Ng: Why the 6-month AI Pause is a Bad Idea](https://www.youtube.com/watch?v=BY9KV8uCtj4)\n",
        "\n",
        "[How A.I. Can Help (NYT)](https://www.nytimes.com/2023/03/02/briefing/chatgpt-ai.html)\n",
        "\n",
        "[AI Doesn’t Have to Be Too Complicated or Expensive for Your Business *by Andrew Ng in Harvard Business Review*](https://hbr.org/2021/07/ai-doesnt-have-to-be-too-complicated-or-expensive-for-your-business)\n",
        "\n",
        "[Understanding The Value Of Artificial Intelligence Solutions In Your Business *by Forbes Business Council*](https://www.forbes.com/sites/forbesbusinesscouncil/2021/01/26/understanding-the-value-of-artificial-intelligence-solutions-in-your-business/?sh=1f1d5443657f)\n",
        "\n",
        "[Achieving Individual — and Organizational — Value With AI *from MIT Sloan*](https://sloanreview.mit.edu/projects/achieving-individual-and-organizational-value-with-ai/)"
      ]
    }
  ],
  "metadata": {
    "colab": {
      "include_colab_link": true,
      "provenance": []
    },
    "kernelspec": {
      "display_name": "Python 3",
      "name": "python3"
    },
    "language_info": {
      "name": "python"
    }
  },
  "nbformat": 4,
  "nbformat_minor": 0
}
