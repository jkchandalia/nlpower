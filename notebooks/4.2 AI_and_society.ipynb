{
  "cells": [
    {
      "cell_type": "markdown",
      "metadata": {
        "id": "view-in-github",
        "colab_type": "text"
      },
      "source": [
        "<a href=\"https://colab.research.google.com/github/jkchandalia/nlpower/blob/main/notebooks/4.2%20AI_and_society.ipynb\" target=\"_parent\"><img src=\"https://colab.research.google.com/assets/colab-badge.svg\" alt=\"Open In Colab\"/></a>"
      ]
    },
    {
      "cell_type": "markdown",
      "metadata": {
        "id": "Rht5jZf89DGB"
      },
      "source": [
        "# **Bias in LLMs**"
      ]
    },
    {
      "cell_type": "markdown",
      "source": [
        "We will use a Hugging Face hosted inference API to see how BERT fills in the masked word in the following sentences."
      ],
      "metadata": {
        "id": "sygkmZyEYo1d"
      }
    },
    {
      "cell_type": "markdown",
      "metadata": {
        "id": "lOmRo_0PHlDD"
      },
      "source": [
        "Let's use this sentence to examine potential gender bias in large language models: \n",
        "\n",
        "[The nurse went for a walk because < MASK > wanted some exercise](https://huggingface.co/bert-base-uncased?text=The+nurse+went+for+a+walk+because+%5BMASK%5D+wanted+some+exercise)\n",
        "\n",
        "What happens if you change the word **nurse** to **doctor**? \n",
        "Experiment with changing the profession or any other word to see what BERT predicts."
      ]
    },
    {
      "cell_type": "markdown",
      "source": [
        "***"
      ],
      "metadata": {
        "id": "o3MOtIyxZbPx"
      }
    },
    {
      "cell_type": "markdown",
      "metadata": {
        "id": "MrjOlx_EHsdj"
      },
      "source": [
        "Let's use the following sentence to examine potential name bias in large language models: \n",
        "\n",
        "[Karen went out to < MASK > the bank](https://huggingface.co/bert-base-uncased?text=Karen+went+out+to+%5BMASK%5D+the+bank)\n",
        "\n",
        "What happens if you change the name **Karen** to **Muhammad**? Experiment with changing the name to see how BERT fills in the masked word."
      ]
    },
    {
      "cell_type": "markdown",
      "metadata": {
        "id": "LM-4LLFVYN2B"
      },
      "source": [
        "### *Discussion*\n",
        "\n",
        "##### Given how prevalent LLMs like BERT are, do we see risks from the results above? \n"
      ]
    },
    {
      "cell_type": "markdown",
      "source": [],
      "metadata": {
        "id": "YdXRkViPa4kV"
      }
    },
    {
      "cell_type": "markdown",
      "source": [
        "##### Bias mitigation is an ongoing area of investigation. Additional resources on this topic will be provided in our resource list. "
      ],
      "metadata": {
        "id": "qShqs82fa1Hy"
      }
    },
    {
      "cell_type": "markdown",
      "metadata": {
        "id": "TDHmPmJQYN2C"
      },
      "source": [
        "***"
      ]
    },
    {
      "cell_type": "markdown",
      "metadata": {
        "id": "PTkXwEfUYN2C"
      },
      "source": [
        "# **Risks and Benefits of AI**"
      ]
    },
    {
      "cell_type": "markdown",
      "source": [
        "<figure>\n",
        "<center>\n",
        "<p align=\"center\">\n",
        "<img src='https://drive.google.com/uc?export=view&id=1fbF9C_SstyUe5W53xyrPc_cpDlozbEk9' alt=\"History of LLMs\", width=\"250\" height=\"300\"/>\n",
        "</p>\n",
        "<figcaption>Fake Image of Pope in Puffer Jacket (credit: Pablo Xavier and Midjourney)</figcaption></center>\n",
        "</figure>\n"
      ],
      "metadata": {
        "id": "jkED0TENatK7"
      }
    },
    {
      "cell_type": "markdown",
      "metadata": {
        "id": "l3ESz_LaYN2D"
      },
      "source": [
        "### *Open Discussion*"
      ]
    },
    {
      "cell_type": "markdown",
      "metadata": {
        "id": "mC-791emYN2D"
      },
      "source": [
        "##### Selection of Views on AI\n",
        "[On the Dangers of Stochastic Parrots: Can Language Models Be Too Big? by Timnit Gebru *et al.*](https://dl.acm.org/doi/pdf/10.1145/3442188.3445922)\n",
        "\n",
        "[Call for a 6 month moratorium on AI progress *signed by Elon Musk, Steve Wozniak, Yoshio Bengio and others*](https://futureoflife.org/open-letter/pause-giant-ai-experiments/)\n",
        "\n",
        "[Yann LeCun and Andrew Ng: Why the 6-month AI Pause is a Bad Idea](https://www.youtube.com/watch?v=BY9KV8uCtj4)\n",
        "\n",
        "[The People Onscreen Are Fake. The Disinformation Is Real (NYT)](https://www.nytimes.com/2023/02/07/technology/artificial-intelligence-training-deepfake.html)\n",
        "\n",
        "[How ChatGPT Kicked Off an A.I. Arms (NYT)](https://www.nytimes.com/2023/02/03/technology/chatgpt-openai-artificial-intelligence.html)\n",
        "\n",
        "[AI Bill of Rights *Office of Science and Technology Policy of the White House*](https://www.whitehouse.gov/ostp/ai-bill-of-rights/)\n",
        "\n",
        "[Does ChatGPT Mean Robots Are Coming For the Skilled Jobs?](https://www.nytimes.com/2022/12/06/opinion/chatgpt-ai-skilled-jobs-automation.html)\n"
      ]
    },
    {
      "cell_type": "code",
      "source": [],
      "metadata": {
        "id": "HZwFbdgqaNHZ"
      },
      "execution_count": null,
      "outputs": []
    }
  ],
  "metadata": {
    "colab": {
      "provenance": [],
      "include_colab_link": true
    },
    "kernelspec": {
      "display_name": "Python 3",
      "name": "python3"
    },
    "language_info": {
      "name": "python"
    }
  },
  "nbformat": 4,
  "nbformat_minor": 0
}