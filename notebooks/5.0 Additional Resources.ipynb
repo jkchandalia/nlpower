{
  "cells": [
    {
      "attachments": {},
      "cell_type": "markdown",
      "metadata": {
        "colab_type": "text",
        "id": "view-in-github"
      },
      "source": [
        "<a href=\"https://colab.research.google.com/github/jkchandalia/nlpower/blob/main/notebooks/4.1%20AI_and_society.ipynb\" target=\"_parent\"><img src=\"https://colab.research.google.com/assets/colab-badge.svg\" alt=\"Open In Colab\"/></a>"
      ]
    },
    {
      "attachments": {},
      "cell_type": "markdown",
      "metadata": {
        "id": "MB2JOABMiM4Q"
      },
      "source": [
        "# **Additonal Resources**"
      ]
    },
    {
      "attachments": {},
      "cell_type": "markdown",
      "metadata": {},
      "source": [
        "### Foundational Papers"
      ]
    },
    {
      "attachments": {},
      "cell_type": "markdown",
      "metadata": {},
      "source": [
        "Attention is All You Need: https://arxiv.org/abs/1706.03762\n",
        "\n",
        "BERT: https://arxiv.org/abs/1810.04805\n",
        "\n",
        "CLIP: https://arxiv.org/abs/2103.00020\n",
        "\n",
        "DistilBERT: https://arxiv.org/abs/1910.01108\n",
        "\n",
        "GPT: https://cdn.openai.com/research-covers/language-unsupervised/language_understanding_paper.pdf\n",
        "\n",
        "GPT-2: https://cdn.openai.com/better-language-models/language_models_are_unsupervised_multitask_learners.pdf\n",
        "\n",
        "GPT-3: https://arxiv.org/abs/2005.14165\n",
        "\n",
        "GPT-4: https://cdn.openai.com/papers/gpt-4.pdf\n",
        "\n",
        "Imagen: https://arxiv.org/pdf/2205.11487.pdf\n",
        "\n",
        "Stable Diffusion: https://arxiv.org/pdf/2006.11239.pdf, https://arxiv.org/pdf/2112.10752.pdf\n",
        "\n",
        "T5: https://arxiv.org/pdf/1910.10683.pdf\n"
      ]
    },
    {
      "attachments": {},
      "cell_type": "markdown",
      "metadata": {},
      "source": [
        "### Bias Mitigation Resources"
      ]
    },
    {
      "attachments": {},
      "cell_type": "markdown",
      "metadata": {},
      "source": [
        "[On the Dangers of Stochastic Parrots: Can Language Models Be Too Big? by Timnit Gebru *et al.*](https://dl.acm.org/doi/pdf/10.1145/3442188.3445922)\n",
        "\n",
        "[Upstream Mitigation Is Not All You Need: Testing the Bias Transfer\n",
        "Hypothesis in Pre-Trained Language Models](https://aclanthology.org/2022.acl-long.247.pdf)\n",
        "\n",
        "[Towards a Standard for Identifying and\n",
        "Managing Bias in Artificial Intelligence *by NIST*](https://nvlpubs.nist.gov/nistpubs/SpecialPublications/NIST.SP.1270.pdf)\n",
        "\n",
        "[A Transparent Framework for Evaluating Unintended Demographic Bias\n",
        "in Word Embeddings](https://aclanthology.org/P19-1162v2.pdf)"
      ]
    },
    {
      "attachments": {},
      "cell_type": "markdown",
      "metadata": {},
      "source": [
        "#### Tutorials\n",
        " Stable Diffusion: https://jalammar.github.io/illustrated-stable-diffusion/\n",
        " \n",
        " Attention Visualization: https://github.com/jessevig/bertviz"
      ]
    }
  ],
  "metadata": {
    "colab": {
      "include_colab_link": true,
      "provenance": []
    },
    "kernelspec": {
      "display_name": "Python 3",
      "name": "python3"
    },
    "language_info": {
      "name": "python"
    }
  },
  "nbformat": 4,
  "nbformat_minor": 0
}
